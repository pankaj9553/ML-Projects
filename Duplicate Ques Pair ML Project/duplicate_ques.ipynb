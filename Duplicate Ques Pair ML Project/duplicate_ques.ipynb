{
 "cells": [
  {
   "cell_type": "code",
   "execution_count": 1,
   "id": "bfa35cfd",
   "metadata": {},
   "outputs": [],
   "source": [
    "import numpy as np\n",
    "import pandas as pd\n",
    "import seaborn as sns\n",
    "import matplotlib.pyplot as plt"
   ]
  },
  {
   "cell_type": "code",
   "execution_count": 2,
   "id": "9b2ff364",
   "metadata": {},
   "outputs": [
    {
     "data": {
      "text/plain": [
       "(404290, 6)"
      ]
     },
     "execution_count": 2,
     "metadata": {},
     "output_type": "execute_result"
    }
   ],
   "source": [
    "df = pd.read_csv(\"train.csv\")\n",
    "df.shape"
   ]
  },
  {
   "cell_type": "code",
   "execution_count": 6,
   "id": "4a677f3f",
   "metadata": {},
   "outputs": [
    {
     "data": {
      "text/html": [
       "<div>\n",
       "<style scoped>\n",
       "    .dataframe tbody tr th:only-of-type {\n",
       "        vertical-align: middle;\n",
       "    }\n",
       "\n",
       "    .dataframe tbody tr th {\n",
       "        vertical-align: top;\n",
       "    }\n",
       "\n",
       "    .dataframe thead th {\n",
       "        text-align: right;\n",
       "    }\n",
       "</style>\n",
       "<table border=\"1\" class=\"dataframe\">\n",
       "  <thead>\n",
       "    <tr style=\"text-align: right;\">\n",
       "      <th></th>\n",
       "      <th>id</th>\n",
       "      <th>qid1</th>\n",
       "      <th>qid2</th>\n",
       "      <th>question1</th>\n",
       "      <th>question2</th>\n",
       "      <th>is_duplicate</th>\n",
       "    </tr>\n",
       "  </thead>\n",
       "  <tbody>\n",
       "    <tr>\n",
       "      <th>221996</th>\n",
       "      <td>221996</td>\n",
       "      <td>329457</td>\n",
       "      <td>329458</td>\n",
       "      <td>What would happen if the world were tilted fiv...</td>\n",
       "      <td>What would happen if the world were tilted at ...</td>\n",
       "      <td>0</td>\n",
       "    </tr>\n",
       "    <tr>\n",
       "      <th>247475</th>\n",
       "      <td>247475</td>\n",
       "      <td>360719</td>\n",
       "      <td>360720</td>\n",
       "      <td>Why does Quora blog not cached by google? Its ...</td>\n",
       "      <td>How do I clean the cache of Quora in iOS?</td>\n",
       "      <td>0</td>\n",
       "    </tr>\n",
       "    <tr>\n",
       "      <th>233275</th>\n",
       "      <td>233275</td>\n",
       "      <td>343493</td>\n",
       "      <td>343494</td>\n",
       "      <td>Is there a digital compact camera that has an ...</td>\n",
       "      <td>Is there a digital compact camera that has an ...</td>\n",
       "      <td>0</td>\n",
       "    </tr>\n",
       "    <tr>\n",
       "      <th>122273</th>\n",
       "      <td>122273</td>\n",
       "      <td>197940</td>\n",
       "      <td>197941</td>\n",
       "      <td>How can I get an engineering job without a deg...</td>\n",
       "      <td>Double integration using MATLAB?</td>\n",
       "      <td>0</td>\n",
       "    </tr>\n",
       "    <tr>\n",
       "      <th>242029</th>\n",
       "      <td>242029</td>\n",
       "      <td>122563</td>\n",
       "      <td>24467</td>\n",
       "      <td>Is prime minister Narendra modi doing anything...</td>\n",
       "      <td>Is modi government doing anything to remove ca...</td>\n",
       "      <td>1</td>\n",
       "    </tr>\n",
       "    <tr>\n",
       "      <th>184326</th>\n",
       "      <td>184326</td>\n",
       "      <td>281650</td>\n",
       "      <td>281651</td>\n",
       "      <td>What are the characteristics of a good softwar...</td>\n",
       "      <td>How do I become a great software tester?</td>\n",
       "      <td>1</td>\n",
       "    </tr>\n",
       "    <tr>\n",
       "      <th>207270</th>\n",
       "      <td>207270</td>\n",
       "      <td>310906</td>\n",
       "      <td>310907</td>\n",
       "      <td>Who are the 10 greatest second basemen of all ...</td>\n",
       "      <td>Who are the 10 greatest first basemen of all t...</td>\n",
       "      <td>0</td>\n",
       "    </tr>\n",
       "    <tr>\n",
       "      <th>107509</th>\n",
       "      <td>107509</td>\n",
       "      <td>50376</td>\n",
       "      <td>176868</td>\n",
       "      <td>How do I start with Android development?</td>\n",
       "      <td>How do I write an Android application?</td>\n",
       "      <td>1</td>\n",
       "    </tr>\n",
       "    <tr>\n",
       "      <th>215723</th>\n",
       "      <td>215723</td>\n",
       "      <td>51135</td>\n",
       "      <td>63096</td>\n",
       "      <td>What will Trump do to make America great again?</td>\n",
       "      <td>Will Donald Trump really make America great ag...</td>\n",
       "      <td>1</td>\n",
       "    </tr>\n",
       "    <tr>\n",
       "      <th>283706</th>\n",
       "      <td>283706</td>\n",
       "      <td>403855</td>\n",
       "      <td>403856</td>\n",
       "      <td>Is vodka okay for the healthy one-drink-per-da...</td>\n",
       "      <td>Will marijauna still be illegal in the year 2116?</td>\n",
       "      <td>0</td>\n",
       "    </tr>\n",
       "  </tbody>\n",
       "</table>\n",
       "</div>"
      ],
      "text/plain": [
       "            id    qid1    qid2  \\\n",
       "221996  221996  329457  329458   \n",
       "247475  247475  360719  360720   \n",
       "233275  233275  343493  343494   \n",
       "122273  122273  197940  197941   \n",
       "242029  242029  122563   24467   \n",
       "184326  184326  281650  281651   \n",
       "207270  207270  310906  310907   \n",
       "107509  107509   50376  176868   \n",
       "215723  215723   51135   63096   \n",
       "283706  283706  403855  403856   \n",
       "\n",
       "                                                question1  \\\n",
       "221996  What would happen if the world were tilted fiv...   \n",
       "247475  Why does Quora blog not cached by google? Its ...   \n",
       "233275  Is there a digital compact camera that has an ...   \n",
       "122273  How can I get an engineering job without a deg...   \n",
       "242029  Is prime minister Narendra modi doing anything...   \n",
       "184326  What are the characteristics of a good softwar...   \n",
       "207270  Who are the 10 greatest second basemen of all ...   \n",
       "107509           How do I start with Android development?   \n",
       "215723    What will Trump do to make America great again?   \n",
       "283706  Is vodka okay for the healthy one-drink-per-da...   \n",
       "\n",
       "                                                question2  is_duplicate  \n",
       "221996  What would happen if the world were tilted at ...             0  \n",
       "247475          How do I clean the cache of Quora in iOS?             0  \n",
       "233275  Is there a digital compact camera that has an ...             0  \n",
       "122273                   Double integration using MATLAB?             0  \n",
       "242029  Is modi government doing anything to remove ca...             1  \n",
       "184326           How do I become a great software tester?             1  \n",
       "207270  Who are the 10 greatest first basemen of all t...             0  \n",
       "107509             How do I write an Android application?             1  \n",
       "215723  Will Donald Trump really make America great ag...             1  \n",
       "283706  Will marijauna still be illegal in the year 2116?             0  "
      ]
     },
     "execution_count": 6,
     "metadata": {},
     "output_type": "execute_result"
    }
   ],
   "source": [
    "df.sample(10)"
   ]
  },
  {
   "cell_type": "code",
   "execution_count": 4,
   "id": "56b19f14",
   "metadata": {},
   "outputs": [
    {
     "name": "stdout",
     "output_type": "stream",
     "text": [
      "<class 'pandas.core.frame.DataFrame'>\n",
      "RangeIndex: 404290 entries, 0 to 404289\n",
      "Data columns (total 6 columns):\n",
      " #   Column        Non-Null Count   Dtype \n",
      "---  ------        --------------   ----- \n",
      " 0   id            404290 non-null  int64 \n",
      " 1   qid1          404290 non-null  int64 \n",
      " 2   qid2          404290 non-null  int64 \n",
      " 3   question1     404289 non-null  object\n",
      " 4   question2     404288 non-null  object\n",
      " 5   is_duplicate  404290 non-null  int64 \n",
      "dtypes: int64(4), object(2)\n",
      "memory usage: 18.5+ MB\n"
     ]
    }
   ],
   "source": [
    "df.info()"
   ]
  },
  {
   "cell_type": "code",
   "execution_count": 7,
   "id": "7383b30c",
   "metadata": {},
   "outputs": [
    {
     "data": {
      "text/plain": [
       "id              0\n",
       "qid1            0\n",
       "qid2            0\n",
       "question1       1\n",
       "question2       2\n",
       "is_duplicate    0\n",
       "dtype: int64"
      ]
     },
     "execution_count": 7,
     "metadata": {},
     "output_type": "execute_result"
    }
   ],
   "source": [
    "#missing values \n",
    "df.isnull().sum()"
   ]
  },
  {
   "cell_type": "code",
   "execution_count": 8,
   "id": "1388759e",
   "metadata": {},
   "outputs": [
    {
     "data": {
      "text/plain": [
       "0"
      ]
     },
     "execution_count": 8,
     "metadata": {},
     "output_type": "execute_result"
    }
   ],
   "source": [
    "#duplicate rows\n",
    "df.duplicated().sum()"
   ]
  },
  {
   "cell_type": "code",
   "execution_count": 10,
   "id": "224ce049",
   "metadata": {},
   "outputs": [
    {
     "name": "stdout",
     "output_type": "stream",
     "text": [
      "is_duplicate\n",
      "0    255027\n",
      "1    149263\n",
      "Name: count, dtype: int64\n",
      "is_duplicate\n",
      "0    63.080215\n",
      "1    36.919785\n",
      "Name: count, dtype: float64\n",
      "AxesSubplot(0.125,0.125;0.775x0.755)\n"
     ]
    },
    {
     "data": {
      "image/png": "[encoded data removed]",
      "text/plain": [
       "<Figure size 432x288 with 1 Axes>"
      ]
     },
     "metadata": {
      "needs_background": "light"
     },
     "output_type": "display_data"
    }
   ],
   "source": [
    "#distribution of duplicate and non-duplicat question\n",
    "\n",
    "print(df['is_duplicate'].value_counts())\n",
    "print((df['is_duplicate'].value_counts()/df['is_duplicate'].count())*100)\n",
    "print(df['is_duplicate'].value_counts().plot(kind='bar'))"
   ]
  },
  {
   "cell_type": "code",
   "execution_count": 12,
   "id": "faf9f5dc",
   "metadata": {},
   "outputs": [
    {
     "name": "stdout",
     "output_type": "stream",
     "text": [
      "Number of unique questions: 537933\n",
      "Number of questions getting repeated: 111780\n"
     ]
    }
   ],
   "source": [
    "#repeated question\n",
    "\n",
    "qid = pd.Series(df['qid1'].tolist() + df['qid2'].tolist())\n",
    "print(\"Number of unique questions:\", np.unique(qid).shape[0])\n",
    "x = qid.value_counts()>1\n",
    "print(\"Number of questions getting repeated:\", x[x].shape[0])"
   ]
  },
  {
   "cell_type": "code",
   "execution_count": 13,
   "id": "04999f5c",
   "metadata": {},
   "outputs": [
    {
     "data": {
      "image/png": "[encoded data removed]",
      "text/plain": [
       "<Figure size 432x288 with 1 Axes>"
      ]
     },
     "metadata": {
      "needs_background": "light"
     },
     "output_type": "display_data"
    }
   ],
   "source": [
    "#Repeated questio histogram\n",
    "\n",
    "plt.hist(qid.value_counts().values, bins=160)\n",
    "plt.yscale('log')\n",
    "plt.show()"
   ]
  },
  {
   "cell_type": "code",
   "execution_count": null,
   "id": "1324bb9b",
   "metadata": {},
   "outputs": [],
   "source": []
  }
 ],
 "metadata": {
  "kernelspec": {
   "display_name": "Python 3 (ipykernel)",
   "language": "python",
   "name": "python3"
  },
  "language_info": {
   "codemirror_mode": {
    "name": "ipython",
    "version": 3
   },
   "file_extension": ".py",
   "mimetype": "text/x-python",
   "name": "python",
   "nbconvert_exporter": "python",
   "pygments_lexer": "ipython3",
   "version": "3.9.12"
  }
 },
 "nbformat": 4,
 "nbformat_minor": 5
}
