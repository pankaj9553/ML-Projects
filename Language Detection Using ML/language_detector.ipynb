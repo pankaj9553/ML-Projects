{
 "cells": [
  {
   "cell_type": "code",
   "execution_count": 1,
   "id": "cf87db59-cd5f-4fbb-b78f-f076583f2080",
   "metadata": {},
   "outputs": [],
   "source": [
    "import numpy as np\n",
    "import pandas as pd"
   ]
  },
  {
   "cell_type": "code",
   "execution_count": 2,
   "id": "bc13ac39-0dea-4811-bd7e-922e05e66545",
   "metadata": {},
   "outputs": [],
   "source": [
    "data = pd.read_csv('language.csv')"
   ]
  },
  {
   "cell_type": "code",
   "execution_count": 3,
   "id": "57ef4b9e-ff78-4f91-a1cb-b93cd8f6a0da",
   "metadata": {},
   "outputs": [
    {
     "data": {
      "text/html": [
       "<div>\n",
       "<style scoped>\n",
       "    .dataframe tbody tr th:only-of-type {\n",
       "        vertical-align: middle;\n",
       "    }\n",
       "\n",
       "    .dataframe tbody tr th {\n",
       "        vertical-align: top;\n",
       "    }\n",
       "\n",
       "    .dataframe thead th {\n",
       "        text-align: right;\n",
       "    }\n",
       "</style>\n",
       "<table border=\"1\" class=\"dataframe\">\n",
       "  <thead>\n",
       "    <tr style=\"text-align: right;\">\n",
       "      <th></th>\n",
       "      <th>Text</th>\n",
       "      <th>language</th>\n",
       "    </tr>\n",
       "  </thead>\n",
       "  <tbody>\n",
       "    <tr>\n",
       "      <th>0</th>\n",
       "      <td>klement gottwaldi surnukeha palsameeriti ning ...</td>\n",
       "      <td>Estonian</td>\n",
       "    </tr>\n",
       "    <tr>\n",
       "      <th>1</th>\n",
       "      <td>sebes joseph pereira thomas  på eng the jesuit...</td>\n",
       "      <td>Swedish</td>\n",
       "    </tr>\n",
       "    <tr>\n",
       "      <th>2</th>\n",
       "      <td>ถนนเจริญกรุง อักษรโรมัน thanon charoen krung เ...</td>\n",
       "      <td>Thai</td>\n",
       "    </tr>\n",
       "    <tr>\n",
       "      <th>3</th>\n",
       "      <td>விசாகப்பட்டினம் தமிழ்ச்சங்கத்தை இந்துப் பத்திர...</td>\n",
       "      <td>Tamil</td>\n",
       "    </tr>\n",
       "    <tr>\n",
       "      <th>4</th>\n",
       "      <td>de spons behoort tot het geslacht haliclona en...</td>\n",
       "      <td>Dutch</td>\n",
       "    </tr>\n",
       "    <tr>\n",
       "      <th>...</th>\n",
       "      <td>...</td>\n",
       "      <td>...</td>\n",
       "    </tr>\n",
       "    <tr>\n",
       "      <th>21995</th>\n",
       "      <td>hors du terrain les années  et  sont des année...</td>\n",
       "      <td>French</td>\n",
       "    </tr>\n",
       "    <tr>\n",
       "      <th>21996</th>\n",
       "      <td>ใน พศ  หลักจากที่เสด็จประพาสแหลมมลายู ชวา อินเ...</td>\n",
       "      <td>Thai</td>\n",
       "    </tr>\n",
       "    <tr>\n",
       "      <th>21997</th>\n",
       "      <td>con motivo de la celebración del septuagésimoq...</td>\n",
       "      <td>Spanish</td>\n",
       "    </tr>\n",
       "    <tr>\n",
       "      <th>21998</th>\n",
       "      <td>年月，當時還只有歲的她在美國出道，以mai-k名義推出首張英文《baby i like》，由...</td>\n",
       "      <td>Chinese</td>\n",
       "    </tr>\n",
       "    <tr>\n",
       "      <th>21999</th>\n",
       "      <td>aprilie sonda spațială messenger a nasa și-a ...</td>\n",
       "      <td>Romanian</td>\n",
       "    </tr>\n",
       "  </tbody>\n",
       "</table>\n",
       "<p>22000 rows × 2 columns</p>\n",
       "</div>"
      ],
      "text/plain": [
       "                                                    Text  language\n",
       "0      klement gottwaldi surnukeha palsameeriti ning ...  Estonian\n",
       "1      sebes joseph pereira thomas  på eng the jesuit...   Swedish\n",
       "2      ถนนเจริญกรุง อักษรโรมัน thanon charoen krung เ...      Thai\n",
       "3      விசாகப்பட்டினம் தமிழ்ச்சங்கத்தை இந்துப் பத்திர...     Tamil\n",
       "4      de spons behoort tot het geslacht haliclona en...     Dutch\n",
       "...                                                  ...       ...\n",
       "21995  hors du terrain les années  et  sont des année...    French\n",
       "21996  ใน พศ  หลักจากที่เสด็จประพาสแหลมมลายู ชวา อินเ...      Thai\n",
       "21997  con motivo de la celebración del septuagésimoq...   Spanish\n",
       "21998  年月，當時還只有歲的她在美國出道，以mai-k名義推出首張英文《baby i like》，由...   Chinese\n",
       "21999   aprilie sonda spațială messenger a nasa și-a ...  Romanian\n",
       "\n",
       "[22000 rows x 2 columns]"
      ]
     },
     "execution_count": 3,
     "metadata": {},
     "output_type": "execute_result"
    }
   ],
   "source": [
    "data"
   ]
  },
  {
   "cell_type": "code",
   "execution_count": 4,
   "id": "2190b1ee-9610-44db-930d-f68dcf4027b6",
   "metadata": {},
   "outputs": [],
   "source": [
    "from sklearn.feature_extraction.text import CountVectorizer\n",
    "from sklearn.model_selection import train_test_split\n",
    "\n",
    "from sklearn.naive_bayes import MultinomialNB\n",
    "from sklearn.metrics import accuracy_score, confusion_matrix, precision_score"
   ]
  },
  {
   "cell_type": "code",
   "execution_count": 5,
   "id": "88cbeb9f-7716-4f1e-8b28-0315559d8b13",
   "metadata": {},
   "outputs": [
    {
     "data": {
      "text/plain": [
       "Text        0\n",
       "language    0\n",
       "dtype: int64"
      ]
     },
     "execution_count": 5,
     "metadata": {},
     "output_type": "execute_result"
    }
   ],
   "source": [
    "data.isnull().sum()"
   ]
  },
  {
   "cell_type": "code",
   "execution_count": 6,
   "id": "e61ff06e-c33e-48bb-ad1d-d2b6d962cc5e",
   "metadata": {},
   "outputs": [
    {
     "data": {
      "text/plain": [
       "language\n",
       "Estonian      1000\n",
       "Swedish       1000\n",
       "Thai          1000\n",
       "Tamil         1000\n",
       "Dutch         1000\n",
       "Japanese      1000\n",
       "Turkish       1000\n",
       "Latin         1000\n",
       "Urdu          1000\n",
       "Indonesian    1000\n",
       "Portugese     1000\n",
       "French        1000\n",
       "Chinese       1000\n",
       "Korean        1000\n",
       "Hindi         1000\n",
       "Spanish       1000\n",
       "Pushto        1000\n",
       "Persian       1000\n",
       "Romanian      1000\n",
       "Russian       1000\n",
       "English       1000\n",
       "Arabic        1000\n",
       "Name: count, dtype: int64"
      ]
     },
     "execution_count": 6,
     "metadata": {},
     "output_type": "execute_result"
    }
   ],
   "source": [
    "data['language'].value_counts()"
   ]
  },
  {
   "cell_type": "code",
   "execution_count": 7,
   "id": "4639e46e-fe4c-4f6a-8174-f0c1d05ce975",
   "metadata": {},
   "outputs": [
    {
     "data": {
      "text/plain": [
       "Text        object\n",
       "language    object\n",
       "dtype: object"
      ]
     },
     "execution_count": 7,
     "metadata": {},
     "output_type": "execute_result"
    }
   ],
   "source": [
    "data.dtypes"
   ]
  },
  {
   "cell_type": "code",
   "execution_count": 8,
   "id": "d3a8b4cd-75e6-4205-a34f-25676664d4a8",
   "metadata": {},
   "outputs": [],
   "source": [
    "x = np.array(data['Text'])\n",
    "y = np.array(data['language'])"
   ]
  },
  {
   "cell_type": "code",
   "execution_count": 9,
   "id": "71747ac8-d8aa-4375-bf05-36fdce24c734",
   "metadata": {},
   "outputs": [],
   "source": [
    "cv = CountVectorizer()\n",
    "X = cv.fit_transform(x)"
   ]
  },
  {
   "cell_type": "code",
   "execution_count": 10,
   "id": "48292104-f908-4807-bb50-860daf19e25e",
   "metadata": {},
   "outputs": [],
   "source": [
    "x_train, x_test, y_train, y_test = train_test_split(X,y, test_size=0.33, random_state=42)\n"
   ]
  },
  {
   "cell_type": "code",
   "execution_count": 11,
   "id": "0c9d251c-53b3-48ad-bc20-cb0150bd7a15",
   "metadata": {},
   "outputs": [
    {
     "name": "stdout",
     "output_type": "stream",
     "text": [
      "<Compressed Sparse Row sparse matrix of dtype 'int64'\n",
      "\twith 613529 stored elements and shape (14740, 277720)>\n",
      "  Coords\tValues\n",
      "  (0, 197295)\t2\n",
      "  (0, 197708)\t1\n",
      "  (0, 197801)\t1\n",
      "  (0, 198388)\t1\n",
      "  (0, 197467)\t1\n",
      "  (0, 197865)\t2\n",
      "  (0, 197604)\t1\n",
      "  (0, 198428)\t1\n",
      "  (0, 198501)\t1\n",
      "  (0, 198556)\t1\n",
      "  (0, 197332)\t1\n",
      "  (0, 197485)\t2\n",
      "  (0, 198123)\t1\n",
      "  (0, 197892)\t1\n",
      "  (0, 197990)\t1\n",
      "  (0, 198053)\t1\n",
      "  (0, 198417)\t1\n",
      "  (0, 197623)\t1\n",
      "  (1, 197641)\t2\n",
      "  (1, 197314)\t1\n",
      "  (1, 197931)\t1\n",
      "  (1, 197804)\t3\n",
      "  (1, 198397)\t1\n",
      "  (1, 197149)\t1\n",
      "  (1, 197781)\t1\n",
      "  :\t:\n",
      "  (14738, 188817)\t1\n",
      "  (14738, 192004)\t1\n",
      "  (14738, 157171)\t1\n",
      "  (14738, 190346)\t1\n",
      "  (14738, 190725)\t1\n",
      "  (14738, 189685)\t1\n",
      "  (14738, 159269)\t2\n",
      "  (14738, 145431)\t1\n",
      "  (14738, 173292)\t1\n",
      "  (14738, 176062)\t1\n",
      "  (14738, 159959)\t1\n",
      "  (14738, 190198)\t1\n",
      "  (14738, 167124)\t1\n",
      "  (14738, 168158)\t1\n",
      "  (14738, 180260)\t2\n",
      "  (14738, 153262)\t1\n",
      "  (14738, 162150)\t1\n",
      "  (14738, 153355)\t1\n",
      "  (14738, 178104)\t1\n",
      "  (14738, 163770)\t1\n",
      "  (14739, 223002)\t1\n",
      "  (14739, 235170)\t1\n",
      "  (14739, 222446)\t1\n",
      "  (14739, 221922)\t1\n",
      "  (14739, 242446)\t1\n"
     ]
    }
   ],
   "source": [
    "print(x_train)"
   ]
  },
  {
   "cell_type": "code",
   "execution_count": 12,
   "id": "de489d2c-c1d8-49f3-82ed-54f65289e4b5",
   "metadata": {},
   "outputs": [
    {
     "data": {
      "text/plain": [
       "array(['Tamil', 'Tamil', 'Arabic', ..., 'Turkish', 'Pushto', 'Japanese'],\n",
       "      dtype=object)"
      ]
     },
     "execution_count": 12,
     "metadata": {},
     "output_type": "execute_result"
    }
   ],
   "source": [
    "y_train"
   ]
  },
  {
   "cell_type": "code",
   "execution_count": 13,
   "id": "a4047401-805b-4a78-986e-fa32691ff732",
   "metadata": {},
   "outputs": [],
   "source": [
    "model= MultinomialNB()"
   ]
  },
  {
   "cell_type": "code",
   "execution_count": 14,
   "id": "387b60e5-8340-43c6-9586-4d93e6759f2a",
   "metadata": {},
   "outputs": [
    {
     "data": {
      "text/plain": [
       "0.953168044077135"
      ]
     },
     "execution_count": 14,
     "metadata": {},
     "output_type": "execute_result"
    }
   ],
   "source": [
    "model.fit(x_train, y_train)\n",
    "model.score(x_test, y_test)\n"
   ]
  },
  {
   "cell_type": "code",
   "execution_count": 20,
   "id": "d61ccefe-9805-45ae-ac33-9094a8ac0e56",
   "metadata": {},
   "outputs": [
    {
     "name": "stdin",
     "output_type": "stream",
     "text": [
      "Enter text :  मेरा नाम पंकज है\n"
     ]
    },
    {
     "name": "stdout",
     "output_type": "stream",
     "text": [
      "['Hindi']\n"
     ]
    }
   ],
   "source": [
    "user = input('Enter text : ')\n",
    "data = cv.transform([user]).toarray()\n",
    "\n",
    "output = model.predict(data)\n",
    "print(output)"
   ]
  },
  {
   "cell_type": "code",
   "execution_count": 18,
   "id": "f050023d-0c5c-4a52-954a-01494784572c",
   "metadata": {},
   "outputs": [],
   "source": [
    "import pickle\n",
    "pickle.dump(cv,open('vectorizer.pkl','wb'))\n",
    "pickle.dump(model,open('model.pkl','wb'))"
   ]
  },
  {
   "cell_type": "code",
   "execution_count": null,
   "id": "8034b5b4-dae4-4410-b7cd-de98ae60119f",
   "metadata": {},
   "outputs": [],
   "source": []
  }
 ],
 "metadata": {
  "kernelspec": {
   "display_name": "Python 3 (ipykernel)",
   "language": "python",
   "name": "python3"
  },
  "language_info": {
   "codemirror_mode": {
    "name": "ipython",
    "version": 3
   },
   "file_extension": ".py",
   "mimetype": "text/x-python",
   "name": "python",
   "nbconvert_exporter": "python",
   "pygments_lexer": "ipython3",
   "version": "3.13.5"
  }
 },
 "nbformat": 4,
 "nbformat_minor": 5
}
